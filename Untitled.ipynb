{
 "cells": [
  {
   "cell_type": "code",
   "execution_count": 45,
   "metadata": {},
   "outputs": [
    {
     "name": "stdout",
     "output_type": "stream",
     "text": [
      "The history saving thread hit an unexpected error (OperationalError('database or disk is full',)).History will not be written to the database.\n"
     ]
    }
   ],
   "source": [
    "import pandas as pd\n",
    "import os\n",
    "import ast"
   ]
  },
  {
   "cell_type": "code",
   "execution_count": 40,
   "metadata": {},
   "outputs": [],
   "source": [
    "all_files = [f'./log_files/mimic-iii_2_50/{k}' for k in os.listdir('./log_files/mimic-iii_2_50')]\n",
    "\n",
    "def get_result(path):\n",
    "    \n",
    "    df_ = pd.read_csv(f'{path}/result.csv')\n",
    "    with open(f'{path}/hyperparameters.txt','r') as f:\n",
    "        data = f.readlines()\n",
    "    return data"
   ]
  },
  {
   "cell_type": "code",
   "execution_count": 44,
   "metadata": {},
   "outputs": [
    {
     "data": {
      "text/plain": [
       "{'attention_mode': 'label',\n",
       " 'batch_size': 8,\n",
       " 'best_model_path': 'checkpoints/mimic-iii_2_50/RNN_LSTM_1_512.static.label.0.001.0.3_eef1c4af404b3c60afb03225c7b456d6/best_model.pkl',\n",
       " 'bidirectional': 1,\n",
       " 'd_a': 512,\n",
       " 'dropout': 0.3,\n",
       " 'embedding_file': 'data/embeddings/word2vec_sg0_100.model',\n",
       " 'embedding_mode': 'word2vec',\n",
       " 'embedding_size': 100,\n",
       " 'exp_name': 'experiment_none',\n",
       " 'hidden_size': 512,\n",
       " 'joint_mode': 'hierarchical',\n",
       " 'level_projection_size': 128,\n",
       " 'loss_name': 'BCE',\n",
       " 'lr': 0.001,\n",
       " 'lr_scheduler_factor': 0.9,\n",
       " 'lr_scheduler_patience': 5,\n",
       " 'main_metric': 'micro_f1',\n",
       " 'max_seq_length': 4000,\n",
       " 'metric_level': 1,\n",
       " 'min_seq_length': -1,\n",
       " 'min_word_frequency': -1,\n",
       " 'mode': 'static',\n",
       " 'multilabel': True,\n",
       " 'n_epoch': 50,\n",
       " 'n_labels': [40, 50],\n",
       " 'n_layers': 1,\n",
       " 'optimiser': 'adamw',\n",
       " 'patience': 5,\n",
       " 'penalisation_coeff': 0.01,\n",
       " 'problem_name': 'mimic-iii_2_50',\n",
       " 'r': -1,\n",
       " 'reduction': 'none',\n",
       " 'result_path': 'checkpoints/mimic-iii_2_50/RNN_LSTM_1_512.static.label.0.001.0.3_eef1c4af404b3c60afb03225c7b456d6/result.pkl',\n",
       " 'resume_training': False,\n",
       " 'rnn_model': 'LSTM',\n",
       " 'save_best_model': True,\n",
       " 'save_results': 1,\n",
       " 'save_results_on_train': False,\n",
       " 'shuffle_data': 1,\n",
       " 'use_last_hidden_state': 0,\n",
       " 'use_lr_scheduler': 1,\n",
       " 'use_regularisation': False,\n",
       " 'weight_decay': 0}"
      ]
     },
     "execution_count": 44,
     "metadata": {},
     "output_type": "execute_result"
    }
   ],
   "source": [
    "ui = get_result(all_files[1])\n",
    "ui = [str(k) for k in ui]\n",
    "ast.literal_eval(\" \".join(ui))"
   ]
  },
  {
   "cell_type": "code",
   "execution_count": 42,
   "metadata": {},
   "outputs": [],
   "source": []
  },
  {
   "cell_type": "code",
   "execution_count": 43,
   "metadata": {},
   "outputs": [
    {
     "ename": "SyntaxError",
     "evalue": "invalid syntax (<unknown>, line 24)",
     "output_type": "error",
     "traceback": [
      "\u001b[0;36m  File \u001b[0;32m\"<unknown>\"\u001b[0;36m, line \u001b[0;32m24\u001b[0m\n\u001b[0;31m    'model': <class 'src.models.rnn.RNN'>,\u001b[0m\n\u001b[0m             ^\u001b[0m\n\u001b[0;31mSyntaxError\u001b[0m\u001b[0;31m:\u001b[0m invalid syntax\n"
     ]
    }
   ],
   "source": []
  },
  {
   "cell_type": "code",
   "execution_count": null,
   "metadata": {},
   "outputs": [],
   "source": []
  }
 ],
 "metadata": {
  "kernelspec": {
   "display_name": "Python 3",
   "language": "python",
   "name": "python3"
  },
  "language_info": {
   "codemirror_mode": {
    "name": "ipython",
    "version": 3
   },
   "file_extension": ".py",
   "mimetype": "text/x-python",
   "name": "python",
   "nbconvert_exporter": "python",
   "pygments_lexer": "ipython3",
   "version": "3.6.9"
  }
 },
 "nbformat": 4,
 "nbformat_minor": 2
}
